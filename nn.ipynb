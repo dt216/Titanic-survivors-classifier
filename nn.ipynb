# Import the necessary modules
import numpy as np # linear algebra
import pandas as pd # data processing, CSV file I/O (e.g. pd.read_csv)
import tensorflow as tf
from tensorflow import keras
import matplotlib.pyplot as plt

# Upload the data with pandas
full_train_data = pd.read_csv('/kaggle/input/titanic/train.csv')
full_train_data
